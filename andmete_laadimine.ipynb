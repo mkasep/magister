{
 "cells": [
  {
   "cell_type": "markdown",
   "metadata": {
    "collapsed": true
   },
   "source": [
    "# Tarbimisandmete kategoriseerimine ja sündmuste tuvastamine"
   ]
  },
  {
   "cell_type": "markdown",
   "metadata": {},
   "source": [
    "## Andmete laadimine\n",
    "___\n",
    "Käesolev töö kasutab andmete kogumiseks Nordic Automation Systems-i (NAS) sensoreid (http://www.nasys.no/products/lora-water-meter-sensor/) ning neid andmeid kogutakse kasutades nende API-t (https://iothub.nasys.no). Andmed on kogutud juba sensori tasemel kumulatiivselt, liites iga impulsi varem alustatud loendurile juurde. Impulss on veemõõtja tiiviku täispööre. Iga nelja minuti tagant saadetakse loenduri näit välja NAS-i serverisse kui 9 baidine baidijada, kus esimesed neli baiti on LSB (least significant bit) formaadis täisarvuline loenduri väärtus. NAS-i API poole pöördudes tagastatakse JSON objekt, mille ühel väljal asub 9 baidine näit base64 enkodeeritud tekstiväärtusena."
   ]
  },
  {
   "cell_type": "code",
   "execution_count": 20,
   "metadata": {},
   "outputs": [
    {
     "name": "stdout",
     "output_type": "stream",
     "text": [
      "{\n    \"result\": [\n        {\n            \"adr\": \"true\",\n            \"bandwidth\": \"0\",\n            \"codeRate\": \"\",\n            \"data\": \"ACUAEDU=\",\n            \"date\": \"2017-02-17 18:36:51\",\n            \"fcnt\": \"1\",\n            \"fport\": \"99\",\n            \"frequency\": \"0\",\n            \"gatewaycount\": \"1\",\n            \"id\": \"885781\",\n            \"modulation\": null,\n            \"rssi\": \"-91\",\n            \"spreadFactor\": \"0\",\n            \"timestamp\": \"2147483647\"\n        },\n        {\n            \"adr\": \"true\",\n            \"bandwidth\": \"0\",\n            \"codeRate\": \"\",\n            \"data\": \"AAcAAAAVlJYA\",\n            \"date\": \"2017-02-17 18:41:09\",\n            \"fcnt\": \"2\",\n            \"fport\": \"24\",\n            \"frequency\": \"0\",\n            \"gatewaycount\": \"1\",\n            \"id\": \"885805\",\n            \"modulation\": null,\n            \"rssi\": \"-103\",\n            \"spreadFactor\": \"0\",\n            \"timestamp\": \"2147483647\"\n        },\n        {\n            \"adr\": \"true\",\n            \"bandwidth\": \"0\",\n            \"codeRate\": \"\",\n            \"data\": \"LAkAAAATAJYA\",\n            \"date\": \"2017-02-17 18:46:11\",\n            \"fcnt\": \"3\",\n            \"fport\": \"24\",\n            \"frequency\": \"0\",\n            \"gatewaycount\": \"1\",\n            \"id\": \"885828\",\n            \"modulation\": null,\n            \"rssi\": \"-98\",\n            \"spreadFactor\": \"0\",\n            \"timestamp\": \"2147483647\"\n        }\n    ],\n    \"total\": \"15951\"\n}\n"
     ]
    }
   ],
   "source": [
    "from urllib.request import urlopen\n",
    "from mainlib import get_nas_url\n",
    "import json\n",
    "\n",
    "jsonurl = urlopen(get_nas_url(response_count=3))\n",
    "response = json.loads(jsonurl.read())\n",
    "print(json.dumps(response, indent=4, sort_keys=True))"
   ]
  },
  {
   "cell_type": "markdown",
   "metadata": {},
   "source": [
    ""
   ]
  },
  {
   "cell_type": "markdown",
   "metadata": {},
   "source": [
    "Käesolev töö kasutab peamiselt välju _data_ ning _date_.\n",
    "___"
   ]
  },
  {
   "cell_type": "markdown",
   "metadata": {},
   "source": [
    "### Andmete dekodeerimine\n",
    "Andmete dekodeerimiseks on defineeritud kaks meetodit. Meetod water_meter_data_parser dekodeerib 9 baidise base64 stringi 4 baidiseks täisarvuliseks väärtuseks ning map_nas_data muundab JSON-ist tulnud _data_ välja reaalseks numbriliseks veenäiduks ning kogu data kirjutatakse faili."
   ]
  },
  {
   "cell_type": "code",
   "execution_count": 21,
   "metadata": {
    "collapsed": true
   },
   "outputs": [
    {
     "name": "stdout",
     "output_type": "stream",
     "text": [
      "ACUAEDU=\nAAcAAAAVlJYA\nLAkAAAATAJYA\n[\n    {\n        \"data\": 17.92,\n        \"date\": \"2017-02-17 18:41:09\"\n    },\n    {\n        \"data\": 23.48,\n        \"date\": \"2017-02-17 18:46:11\"\n    }\n]\n"
     ]
    }
   ],
   "source": [
    "from urllib.request import urlopen\n",
    "from mainlib import file_name\n",
    "import json\n",
    "import base64\n",
    "\n",
    "\n",
    "def water_meter_data_parser(nas_data_str):\n",
    "    print(nas_data_str)\n",
    "    btea_orig = bytearray(nas_data_str, 'UTF-8')\n",
    "    btea = base64.b64decode(btea_orig)\n",
    "    return int.from_bytes(btea[:4], byteorder='little', signed=False)\n",
    "\n",
    "\n",
    "def map_nas_data(row):\n",
    "    data_int = float(water_meter_data_parser(row['data']))\n",
    "    return {\n",
    "        'data': data_int / 100, # to l\n",
    "        'date': row['date']\n",
    "    }\n",
    "\n",
    "usage_data_unparsed = response['result']\n",
    "usage_data_list = list(map(map_nas_data, \n",
    "                                filter(lambda row: row['fport'] == '24', usage_data_unparsed)))\n",
    "\n",
    "file = open(file_name, \"w\")\n",
    "file.write(json.dumps(usage_data_list, indent=4, separators=(',', ': ')))\n",
    "file.flush()\n",
    "file.close()\n",
    "print(json.dumps(usage_data_list, indent=4, sort_keys=True))"
   ]
  },
  {
   "cell_type": "code",
   "execution_count": null,
   "metadata": {},
   "outputs": [],
   "source": [
    ""
   ]
  }
 ],
 "metadata": {
  "kernelspec": {
   "display_name": "Python 2",
   "language": "python",
   "name": "python2"
  },
  "language_info": {
   "codemirror_mode": {
    "name": "ipython",
    "version": 2.0
   },
   "file_extension": ".py",
   "mimetype": "text/x-python",
   "name": "python",
   "nbconvert_exporter": "python",
   "pygments_lexer": "ipython2",
   "version": "2.7.6"
  }
 },
 "nbformat": 4,
 "nbformat_minor": 0
}